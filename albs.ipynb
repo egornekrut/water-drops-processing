{
 "cells": [
  {
   "cell_type": "code",
   "execution_count": 9,
   "metadata": {},
   "outputs": [],
   "source": [
    "import albumentations as A\n",
    "import numpy as np\n",
    "import torch\n",
    "from PIL import Image\n",
    "from pathlib import Path\n",
    "from src.segmentation.dataset import BubDataset\n",
    "from src.utils.config import get_config_from_path\n",
    "from src.segmentation.model import setup_segmentation_model\n",
    "from albumentations.pytorch import ToTensorV2\n",
    "config = get_config_from_path('./configs/seg_unet_ef1.py')\n"
   ]
  },
  {
   "cell_type": "code",
   "execution_count": 2,
   "metadata": {},
   "outputs": [],
   "source": [
    "dataset = BubDataset(config)"
   ]
  },
  {
   "cell_type": "code",
   "execution_count": 3,
   "metadata": {},
   "outputs": [],
   "source": [
    "def decode(ten_in: torch.Tensor):\n",
    "    return ((ten_in.permute(1, 2, 0).numpy() + 1) * 127.5).astype(np.uint8)[..., 0]\n",
    "\n",
    "def decode_mask(ten_in: torch.Tensor):\n",
    "    return (ten_in.permute(1, 2, 0).numpy() * 255).astype(np.uint8)[..., 0]"
   ]
  },
  {
   "cell_type": "code",
   "execution_count": 4,
   "metadata": {},
   "outputs": [],
   "source": [
    "model = setup_segmentation_model(config, True)"
   ]
  },
  {
   "cell_type": "code",
   "execution_count": 7,
   "metadata": {},
   "outputs": [],
   "source": [
    "# img, gt = dataset.__getitem__(1)\n",
    "# dec_img = decode(img)\n",
    "# dec_mask = decode_mask(gt)"
   ]
  },
  {
   "cell_type": "code",
   "execution_count": 11,
   "metadata": {},
   "outputs": [],
   "source": [
    "roor_dir = Path('/mnt/c/Users/egorn/Desktop/WDP/segment_fs/iterative/v1/to_process/') # Users\\egorn\\Desktop\\WDP\\dataset\\train\\original"
   ]
  },
  {
   "cell_type": "code",
   "execution_count": 12,
   "metadata": {},
   "outputs": [],
   "source": [
    "path_list = list(roor_dir.glob('*.png'))"
   ]
  },
  {
   "cell_type": "code",
   "execution_count": 13,
   "metadata": {},
   "outputs": [],
   "source": [
    "def process_pic(path):\n",
    "    img = np.asarray(Image.open(path).convert('L'))\n",
    "    tensor_pic = ToTensorV2()(image=img)['image'] / 127.5 - 1\n",
    "    res = model.predict(tensor_pic.unsqueeze(0).cuda()).cpu().squeeze(0)\n",
    "    return decode_mask(res)"
   ]
  },
  {
   "cell_type": "code",
   "execution_count": 14,
   "metadata": {},
   "outputs": [
    {
     "data": {
      "text/plain": [
       "PosixPath('/mnt/c/Users/egorn/Desktop/WDP/segment_fs/iterative/v1/to_process/4.7_frame_28.png')"
      ]
     },
     "execution_count": 14,
     "metadata": {},
     "output_type": "execute_result"
    }
   ],
   "source": [
    "path_list[0]"
   ]
  },
  {
   "cell_type": "code",
   "execution_count": 19,
   "metadata": {},
   "outputs": [],
   "source": [
    "imgs = []\n",
    "for pic_i in path_list:\n",
    "    img = Image.fromarray((process_pic(pic_i) > 245).astype(np.uint8) * 255)\n",
    "    imgs.append(img)\n",
    "    # img.save(f'/mnt/c/Users/egorn/Desktop/WDP/segment_fs/iterative/v1/to_process/{pic_i.stem}_mask.png')"
   ]
  },
  {
   "cell_type": "code",
   "execution_count": 20,
   "metadata": {},
   "outputs": [
    {
     "data": {
      "image/png": "[encoded data removed]",
      "text/plain": [
       "<PIL.Image.Image image mode=L size=640x480>"
      ]
     },
     "execution_count": 20,
     "metadata": {},
     "output_type": "execute_result"
    }
   ],
   "source": [
    "imgs[0]"
   ]
  },
  {
   "cell_type": "code",
   "execution_count": null,
   "metadata": {},
   "outputs": [],
   "source": []
  }
 ],
 "metadata": {
  "kernelspec": {
   "display_name": "water_drops_processing",
   "language": "python",
   "name": "python3"
  },
  "language_info": {
   "codemirror_mode": {
    "name": "ipython",
    "version": 3
   },
   "file_extension": ".py",
   "mimetype": "text/x-python",
   "name": "python",
   "nbconvert_exporter": "python",
   "pygments_lexer": "ipython3",
   "version": "3.9.17"
  },
  "orig_nbformat": 4
 },
 "nbformat": 4,
 "nbformat_minor": 2
}
