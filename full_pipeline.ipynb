{
 "cells": [
  {
   "cell_type": "code",
   "execution_count": null,
   "metadata": {},
   "outputs": [],
   "source": [
    "from pathlib import Path\n",
    "\n",
    "import albumentations as A\n",
    "import cv2\n",
    "import numpy as np\n",
    "import torch\n",
    "from albumentations.pytorch import ToTensorV2\n",
    "from PIL import Image, ImageDraw\n",
    "from shapely.geometry import Polygon\n",
    "from ultralytics import YOLO\n",
    "\n",
    "from src.segmentation.dataset import BubDataset\n",
    "from src.segmentation.model import setup_segmentation_model\n",
    "from src.utils.config import get_config_from_path\n",
    "\n",
    "config = get_config_from_path('./configs/seg_unet_ef1.py')\n",
    "model = YOLO('./runs/segment/train/weights/last.pt')"
   ]
  }
 ],
 "metadata": {
  "kernelspec": {
   "display_name": "water_drops_processing",
   "language": "python",
   "name": "python3"
  },
  "language_info": {
   "name": "python",
   "version": "3.9.17"
  }
 },
 "nbformat": 4,
 "nbformat_minor": 2
}
