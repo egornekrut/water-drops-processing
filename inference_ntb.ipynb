{
 "cells": [
  {
   "cell_type": "code",
   "execution_count": null,
   "metadata": {},
   "outputs": [],
   "source": [
    "from inference import BubblesProcessor\n",
    "from pathlib import Path"
   ]
  },
  {
   "cell_type": "code",
   "execution_count": null,
   "metadata": {},
   "outputs": [],
   "source": [
    "processor = BubblesProcessor()"
   ]
  },
  {
   "cell_type": "code",
   "execution_count": null,
   "metadata": {},
   "outputs": [],
   "source": [
    "in_file = Path('/mnt/c/Users/egorn/Desktop/WDP/videos/12.17.mp4') # путь до видео, возможны форматы cine и mp4\n",
    "out_dir = Path('/mnt/c/Users/egorn/Desktop/WDP/out_cine/') # где будут результаты\n",
    "\n",
    "START_FRAME = 0\n",
    "END_FRAME = -1 # -1 значит все, можно указать другое число > 0\n",
    "STEP_FRAME = 1\n",
    "\n",
    "# Масштаб для конвертации из пикселей в микро-метры.\n",
    "# Результаты площадей в пикселях будут умножены на квадрат этого значения, диаметры будут умножены на этот скаляр.\n",
    "SCALE_PX_MM = 1."
   ]
  },
  {
   "cell_type": "code",
   "execution_count": null,
   "metadata": {},
   "outputs": [],
   "source": [
    "processor.run(\n",
    "    input_arg=in_file,\n",
    "    out_dir=out_dir / in_file.stem,\n",
    "    start_frame=START_FRAME,\n",
    "    frame_step=STEP_FRAME,\n",
    "    end_frame=END_FRAME,\n",
    "    save_crops=True,\n",
    "    save_orig_frames=True,\n",
    "    save_plotted_results=True,\n",
    "    save_txt=False,\n",
    "    scale_px_mm=SCALE_PX_MM,\n",
    ")"
   ]
  },
  {
   "cell_type": "code",
   "execution_count": null,
   "metadata": {},
   "outputs": [],
   "source": []
  }
 ],
 "metadata": {
  "kernelspec": {
   "display_name": "water_drops_processing",
   "language": "python",
   "name": "python3"
  },
  "language_info": {
   "codemirror_mode": {
    "name": "ipython",
    "version": 3
   },
   "file_extension": ".py",
   "mimetype": "text/x-python",
   "name": "python",
   "nbconvert_exporter": "python",
   "pygments_lexer": "ipython3",
   "version": "3.9.17"
  }
 },
 "nbformat": 4,
 "nbformat_minor": 2
}
