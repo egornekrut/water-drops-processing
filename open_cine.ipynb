{
 "cells": [
  {
   "cell_type": "code",
   "execution_count": null,
   "metadata": {},
   "outputs": [],
   "source": [
    "from pathlib import Path\n",
    "\n",
    "import cv2\n",
    "import numpy as np\n",
    "import pims\n",
    "from PIL import Image\n",
    "from tqdm import tqdm"
   ]
  },
  {
   "cell_type": "code",
   "execution_count": null,
   "metadata": {},
   "outputs": [],
   "source": [
    "PATH_TO_CINE = Path('/mnt/c/Users/egorn/Desktop/WDP/videos/7.10.cine') # Нужно указать путь до видоса\n",
    "\n",
    "if not PATH_TO_CINE.exists():\n",
    "    raise FileNotFoundError('Видоса нет')\n",
    "\n",
    "OUT_PATH = Path('/mnt/c/Users/egorn/Desktop//WDP/processed_videos') / PATH_TO_CINE.stem # Куда сохранять картинки\n",
    "OUT_PATH_8 = OUT_PATH / 'uint8'\n",
    "OUT_PATH_8.mkdir(exist_ok=True, parents=True)\n",
    "\n",
    "# OUT_PATH_16 = OUT_PATH / 'uint16'\n",
    "# OUT_PATH_16.mkdir(exist_ok=True, parents=True)"
   ]
  },
  {
   "cell_type": "code",
   "execution_count": null,
   "metadata": {},
   "outputs": [],
   "source": [
    "cine_images = pims.open(PATH_TO_CINE.as_posix())"
   ]
  },
  {
   "cell_type": "code",
   "execution_count": null,
   "metadata": {},
   "outputs": [],
   "source": [
    "# Можно использовать индекс, чтобы посмотреть кадры в видосе и прицелиться\n",
    "cine_images[10]"
   ]
  },
  {
   "cell_type": "code",
   "execution_count": null,
   "metadata": {},
   "outputs": [],
   "source": [
    "START_FRAME = 0\n",
    "STEP = 1 # каждый i-й кадр, 1 - все\n",
    "END_FRAME = len(cine_images) # можно указать номер, -1 значит до последнего"
   ]
  },
  {
   "cell_type": "code",
   "execution_count": null,
   "metadata": {},
   "outputs": [],
   "source": [
    "for i in tqdm(range(START_FRAME, END_FRAME, STEP), total=(END_FRAME - START_FRAME) // STEP):\n",
    "    uint8_img = cv2.normalize(np.asarray(cine_images[i]), None, 0, 255, cv2.NORM_MINMAX, dtype=cv2.CV_8U)\n",
    "    cv2.imwrite((OUT_PATH_8 / f'{PATH_TO_CINE.stem}_frame_{i}.png').as_posix(), uint8_img)\n",
    "print(f'Обработано, данные лежат тут: {OUT_PATH_8}')"
   ]
  }
 ],
 "metadata": {
  "kernelspec": {
   "display_name": "water_drops_processing",
   "language": "python",
   "name": "python3"
  },
  "language_info": {
   "codemirror_mode": {
    "name": "ipython",
    "version": 3
   },
   "file_extension": ".py",
   "mimetype": "text/x-python",
   "name": "python",
   "nbconvert_exporter": "python",
   "pygments_lexer": "ipython3",
   "version": "3.9.17"
  }
 },
 "nbformat": 4,
 "nbformat_minor": 2
}
