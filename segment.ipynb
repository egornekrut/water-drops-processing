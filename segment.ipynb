{
 "cells": [
  {
   "cell_type": "code",
   "execution_count": 2,
   "metadata": {},
   "outputs": [],
   "source": [
    "from src.utils.config import get_config_from_path\n",
    "from src.segmentation.model import setup_segmentation_model\n",
    "from PIL import Image\n",
    "import numpy as np\n",
    "import torch\n",
    "from albumentations import Compose, Flip, PadIfNeeded\n",
    "from albumentations.pytorch import ToTensorV2\n",
    "import cv2\n",
    "from pathlib import Path\n",
    "from torchvision.ops.focal_loss import sigmoid_focal_loss\n",
    "from src.segmentation.dataset import BubDataset\n",
    "\n",
    "config = get_config_from_path('./configs/unet_ef1.py')\n",
    "config.ckpt_path = Path('/home/nekrut/tmp/seg_train_wdp/unet_fs/09_09_23-12_05_40/epoch_1000.pt')"
   ]
  },
  {
   "cell_type": "code",
   "execution_count": 16,
   "metadata": {},
   "outputs": [],
   "source": [
    "import cv2\n",
    "img = Image.open(\n",
    "    '/home/nekrut/dataset/water_processing/seg_fs/mask/2.6_frame_30_mask.png',\n",
    ")"
   ]
  },
  {
   "cell_type": "code",
   "execution_count": 44,
   "metadata": {},
   "outputs": [],
   "source": [
    "# ret, thresh = cv2.threshold(np.asarray(img), 127, 255, 0)\n",
    "im2, contours = cv2.findContours(np.asarray(img), cv2.RETR_TREE, cv2.CHAIN_APPROX_SIMPLE)"
   ]
  },
  {
   "cell_type": "code",
   "execution_count": 53,
   "metadata": {},
   "outputs": [
    {
     "data": {
      "image/png": "[encoded data removed]",
      "text/plain": [
       "<PIL.Image.Image image mode=L size=640x480>"
      ]
     },
     "execution_count": 53,
     "metadata": {},
     "output_type": "execute_result"
    }
   ],
   "source": [
    "Image.fromarray(cv2.drawContours(np.asarray(img), im2, -1, (255, 0, 0), 1))"
   ]
  },
  {
   "cell_type": "code",
   "execution_count": 30,
   "metadata": {},
   "outputs": [
    {
     "ename": "AttributeError",
     "evalue": "'tuple' object has no attribute '__array_interface__'",
     "output_type": "error",
     "traceback": [
      "\u001b[0;31m---------------------------------------------------------------------------\u001b[0m",
      "\u001b[0;31mAttributeError\u001b[0m                            Traceback (most recent call last)",
      "Cell \u001b[0;32mIn[30], line 1\u001b[0m\n\u001b[0;32m----> 1\u001b[0m Image\u001b[39m.\u001b[39;49mfromarray(im2)\n",
      "File \u001b[0;32m~/miniconda3/envs/water_drops_processing/lib/python3.9/site-packages/PIL/Image.py:3069\u001b[0m, in \u001b[0;36mfromarray\u001b[0;34m(obj, mode)\u001b[0m\n\u001b[1;32m   3030\u001b[0m \u001b[39mdef\u001b[39;00m \u001b[39mfromarray\u001b[39m(obj, mode\u001b[39m=\u001b[39m\u001b[39mNone\u001b[39;00m):\n\u001b[1;32m   3031\u001b[0m \u001b[39m    \u001b[39m\u001b[39m\"\"\"\u001b[39;00m\n\u001b[1;32m   3032\u001b[0m \u001b[39m    Creates an image memory from an object exporting the array interface\u001b[39;00m\n\u001b[1;32m   3033\u001b[0m \u001b[39m    (using the buffer protocol).\u001b[39;00m\n\u001b[0;32m   (...)\u001b[0m\n\u001b[1;32m   3067\u001b[0m \u001b[39m    .. versionadded:: 1.1.6\u001b[39;00m\n\u001b[1;32m   3068\u001b[0m \u001b[39m    \"\"\"\u001b[39;00m\n\u001b[0;32m-> 3069\u001b[0m     arr \u001b[39m=\u001b[39m obj\u001b[39m.\u001b[39;49m__array_interface__\n\u001b[1;32m   3070\u001b[0m     shape \u001b[39m=\u001b[39m arr[\u001b[39m\"\u001b[39m\u001b[39mshape\u001b[39m\u001b[39m\"\u001b[39m]\n\u001b[1;32m   3071\u001b[0m     ndim \u001b[39m=\u001b[39m \u001b[39mlen\u001b[39m(shape)\n",
      "\u001b[0;31mAttributeError\u001b[0m: 'tuple' object has no attribute '__array_interface__'"
     ]
    }
   ],
   "source": [
    "Image.fromarray(im2)"
   ]
  },
  {
   "cell_type": "code",
   "execution_count": 22,
   "metadata": {},
   "outputs": [],
   "source": [
    "model = setup_segmentation_model(config, load_ckpt=True)"
   ]
  },
  {
   "cell_type": "code",
   "execution_count": 4,
   "metadata": {},
   "outputs": [
    {
     "ename": "TypeError",
     "evalue": "unsupported operand type(s) for /: 'NoneType' and 'str'",
     "output_type": "error",
     "traceback": [
      "\u001b[0;31m---------------------------------------------------------------------------\u001b[0m",
      "\u001b[0;31mTypeError\u001b[0m                                 Traceback (most recent call last)",
      "Cell \u001b[0;32mIn[4], line 1\u001b[0m\n\u001b[0;32m----> 1\u001b[0m dataset \u001b[39m=\u001b[39m BubDataset(config, inference_mode\u001b[39m=\u001b[39;49m\u001b[39mTrue\u001b[39;49;00m)\n",
      "File \u001b[0;32m~/python_projects/water-drops-processing/src/segmentation/dataset.py:22\u001b[0m, in \u001b[0;36mBubDataset.__init__\u001b[0;34m(self, config, inference_mode)\u001b[0m\n\u001b[1;32m     19\u001b[0m \u001b[39mself\u001b[39m\u001b[39m.\u001b[39mconfig \u001b[39m=\u001b[39m config\n\u001b[1;32m     21\u001b[0m dataset_root: Path \u001b[39m=\u001b[39m \u001b[39mself\u001b[39m\u001b[39m.\u001b[39mconfig\u001b[39m.\u001b[39mdataset_root \u001b[39mif\u001b[39;00m \u001b[39mnot\u001b[39;00m inference_mode \u001b[39melse\u001b[39;00m \u001b[39mself\u001b[39m\u001b[39m.\u001b[39mconfig\u001b[39m.\u001b[39mtest_root\n\u001b[0;32m---> 22\u001b[0m original_paths \u001b[39m=\u001b[39m \u001b[39mlist\u001b[39m((dataset_root \u001b[39m/\u001b[39;49m \u001b[39m'\u001b[39;49m\u001b[39moriginal\u001b[39;49m\u001b[39m'\u001b[39;49m)\u001b[39m.\u001b[39mglob(\u001b[39m'\u001b[39m\u001b[39m*.png\u001b[39m\u001b[39m'\u001b[39m))\n\u001b[1;32m     24\u001b[0m \u001b[39mself\u001b[39m\u001b[39m.\u001b[39mimages_dict \u001b[39m=\u001b[39m {}\n\u001b[1;32m     25\u001b[0m \u001b[39mself\u001b[39m\u001b[39m.\u001b[39mgt_dict \u001b[39m=\u001b[39m {}\n",
      "\u001b[0;31mTypeError\u001b[0m: unsupported operand type(s) for /: 'NoneType' and 'str'"
     ]
    }
   ],
   "source": [
    "dataset = BubDataset(config, inference_mode=True)"
   ]
  },
  {
   "cell_type": "code",
   "execution_count": 49,
   "metadata": {},
   "outputs": [
    {
     "ename": "NameError",
     "evalue": "name 'dataset' is not defined",
     "output_type": "error",
     "traceback": [
      "\u001b[0;31m---------------------------------------------------------------------------\u001b[0m",
      "\u001b[0;31mNameError\u001b[0m                                 Traceback (most recent call last)",
      "Cell \u001b[0;32mIn[49], line 1\u001b[0m\n\u001b[0;32m----> 1\u001b[0m img, gt \u001b[39m=\u001b[39m dataset\u001b[39m.\u001b[39m\u001b[39m__getitem__\u001b[39m(\u001b[39m0\u001b[39m)\n",
      "\u001b[0;31mNameError\u001b[0m: name 'dataset' is not defined"
     ]
    }
   ],
   "source": [
    "img, gt = dataset.__getitem__(0)"
   ]
  },
  {
   "cell_type": "code",
   "execution_count": 24,
   "metadata": {},
   "outputs": [
    {
     "data": {
      "image/png": "[encoded data removed]",
      "text/plain": [
       "<PIL.Image.Image image mode=L size=96x96>"
      ]
     },
     "execution_count": 24,
     "metadata": {},
     "output_type": "execute_result"
    }
   ],
   "source": [
    "Image.fromarray((img[0].numpy() * 255).astype(np.uint8))"
   ]
  },
  {
   "cell_type": "code",
   "execution_count": 7,
   "metadata": {},
   "outputs": [
    {
     "data": {
      "image/png": "[encoded data removed]",
      "text/plain": [
       "<PIL.Image.Image image mode=L size=96x96>"
      ]
     },
     "execution_count": 7,
     "metadata": {},
     "output_type": "execute_result"
    }
   ],
   "source": [
    "Image.fromarray((gt[0].numpy() * 255).astype(np.uint8))"
   ]
  },
  {
   "cell_type": "code",
   "execution_count": 5,
   "metadata": {},
   "outputs": [],
   "source": [
    "transforms = Compose([\n",
    "    PadIfNeeded(\n",
    "        min_height=None,\n",
    "        min_width=None,\n",
    "        pad_height_divisor=32,\n",
    "        pad_width_divisor=32,\n",
    "        border_mode=cv2.BORDER_CONSTANT,\n",
    "        position=PadIfNeeded.PositionType.TOP_LEFT,\n",
    "    ),\n",
    "    ToTensorV2(),\n",
    "])"
   ]
  },
  {
   "cell_type": "code",
   "execution_count": 6,
   "metadata": {},
   "outputs": [],
   "source": []
  },
  {
   "cell_type": "code",
   "execution_count": 7,
   "metadata": {},
   "outputs": [],
   "source": [
    "img_t = transforms(image=np.asarray(img))['image'] / 127.5 - 1"
   ]
  },
  {
   "cell_type": "code",
   "execution_count": 8,
   "metadata": {},
   "outputs": [
    {
     "data": {
      "text/plain": [
       "torch.Size([1, 480, 640])"
      ]
     },
     "execution_count": 8,
     "metadata": {},
     "output_type": "execute_result"
    }
   ],
   "source": [
    "img_t.shape"
   ]
  },
  {
   "cell_type": "code",
   "execution_count": 9,
   "metadata": {},
   "outputs": [
    {
     "name": "stderr",
     "output_type": "stream",
     "text": [
      "/home/nekrut/miniconda3/envs/water_drops_processing/lib/python3.9/site-packages/efficientnet_pytorch/utils.py:275: UserWarning: Applied workaround for CuDNN issue, install nvrtc.so (Triggered internally at /opt/conda/conda-bld/pytorch_1682343997789/work/aten/src/ATen/native/cudnn/Conv_v8.cpp:80.)\n",
      "  x = F.conv2d(x, self.weight, self.bias, self.stride, self.padding, self.dilation, self.groups)\n"
     ]
    }
   ],
   "source": [
    "res = model.predict(img_t.cuda().unsqueeze(0)).sigmoid()[0, 0].cpu().numpy()"
   ]
  },
  {
   "cell_type": "code",
   "execution_count": 10,
   "metadata": {},
   "outputs": [
    {
     "data": {
      "text/plain": [
       "(480, 640)"
      ]
     },
     "execution_count": 10,
     "metadata": {},
     "output_type": "execute_result"
    }
   ],
   "source": [
    "res.shape"
   ]
  },
  {
   "cell_type": "code",
   "execution_count": 11,
   "metadata": {},
   "outputs": [
    {
     "data": {
      "text/plain": [
       "array([[   0.017318,   0.0013086,  0.00024226, ...,  0.00038169,   0.0030685,    0.088124],\n",
       "       [ 0.00086288,  7.2944e-06,  3.0261e-07, ...,  3.6752e-07,  1.7906e-05,   0.0076734],\n",
       "       [ 9.3002e-05,  1.5367e-07,  2.1164e-09, ...,   1.994e-09,  3.7728e-07,   0.0011646],\n",
       "       ...,\n",
       "       [ 0.00040606,  1.3848e-06,  2.1857e-08, ...,   6.071e-09,  7.8411e-07,  0.00092994],\n",
       "       [  0.0026611,  5.2258e-05,  2.6701e-06, ...,  7.7423e-07,  2.5405e-05,   0.0041595],\n",
       "       [   0.045171,   0.0057916,   0.0013496, ...,  0.00048353,   0.0025763,    0.033001]], dtype=float32)"
      ]
     },
     "execution_count": 11,
     "metadata": {},
     "output_type": "execute_result"
    }
   ],
   "source": [
    "res"
   ]
  },
  {
   "cell_type": "code",
   "execution_count": 15,
   "metadata": {},
   "outputs": [
    {
     "data": {
      "image/png": "[encoded data removed]",
      "text/plain": [
       "<PIL.Image.Image image mode=L size=640x480>"
      ]
     },
     "execution_count": 15,
     "metadata": {},
     "output_type": "execute_result"
    }
   ],
   "source": [
    "Image.fromarray((res > 0.005).astype(np.uint8) * 255)"
   ]
  },
  {
   "cell_type": "code",
   "execution_count": 34,
   "metadata": {},
   "outputs": [
    {
     "data": {
      "text/plain": [
       "array([[    0.98154,     0.97923,     0.97663, ...,     0.54496,      0.1098,    0.012543],\n",
       "       [    0.99001,      0.9888,     0.98745, ...,     0.62474,     0.13742,    0.015017],\n",
       "       [    0.99461,     0.99399,     0.99329, ...,     0.69828,     0.17067,    0.017969],\n",
       "       ...,\n",
       "       [     0.9631,     0.97081,     0.97695, ...,     0.54766,      0.1802,    0.038375],\n",
       "       [     0.8788,     0.91147,     0.93598, ...,     0.47892,      0.1829,    0.051699],\n",
       "       [    0.66822,     0.76118,     0.83454, ...,     0.41098,     0.18564,    0.069317]], dtype=float32)"
      ]
     },
     "execution_count": 34,
     "metadata": {},
     "output_type": "execute_result"
    }
   ],
   "source": [
    "res"
   ]
  },
  {
   "cell_type": "code",
   "execution_count": null,
   "metadata": {},
   "outputs": [],
   "source": []
  }
 ],
 "metadata": {
  "kernelspec": {
   "display_name": "water_drops_processing",
   "language": "python",
   "name": "python3"
  },
  "language_info": {
   "codemirror_mode": {
    "name": "ipython",
    "version": 3
   },
   "file_extension": ".py",
   "mimetype": "text/x-python",
   "name": "python",
   "nbconvert_exporter": "python",
   "pygments_lexer": "ipython3",
   "version": "3.9.17"
  },
  "orig_nbformat": 4
 },
 "nbformat": 4,
 "nbformat_minor": 2
}
